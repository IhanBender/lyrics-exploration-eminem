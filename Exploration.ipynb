{
 "cells": [
  {
   "cell_type": "code",
   "execution_count": 1,
   "metadata": {},
   "outputs": [],
   "source": [
    "import pandas as pd\n",
    "import re\n",
    "from nltk.corpus import stopwords\n",
    "import os\n",
    "import json"
   ]
  },
  {
   "cell_type": "code",
   "execution_count": 2,
   "metadata": {},
   "outputs": [],
   "source": [
    "df = pd.read_csv('data/Lorde.tsv', sep='\\t')\n",
    "del df['Unnamed: 0']"
   ]
  },
  {
   "cell_type": "markdown",
   "metadata": {},
   "source": [
    "## Remove Stopwords"
   ]
  },
  {
   "cell_type": "code",
   "execution_count": 3,
   "metadata": {},
   "outputs": [],
   "source": [
    "def remove_stopwords(text):\n",
    "    text = text.split(' ')\n",
    "    text = [x for x in text if x not in stopwords.words('english')]\n",
    "    return ' '.join(text)"
   ]
  },
  {
   "cell_type": "code",
   "execution_count": 4,
   "metadata": {},
   "outputs": [],
   "source": [
    "df.loc[:, 'Corpus'] = df.loc[:, 'Corpus'].apply(lambda x: remove_stopwords(x))"
   ]
  },
  {
   "cell_type": "markdown",
   "metadata": {},
   "source": [
    "## Remove Ponctuations"
   ]
  },
  {
   "cell_type": "code",
   "execution_count": 5,
   "metadata": {},
   "outputs": [],
   "source": [
    "def remove_ponctuation(text):\n",
    "    return  \" \".join(re.findall(\"[a-zA-Z]+\", text))"
   ]
  },
  {
   "cell_type": "code",
   "execution_count": 6,
   "metadata": {},
   "outputs": [],
   "source": [
    "df.loc[:, 'Corpus'] = df.loc[:, 'Corpus'].apply(lambda x: remove_ponctuation(x))"
   ]
  },
  {
   "cell_type": "markdown",
   "metadata": {},
   "source": [
    "## Remove Words with less than 3 chars"
   ]
  },
  {
   "cell_type": "code",
   "execution_count": 7,
   "metadata": {},
   "outputs": [],
   "source": [
    "def remove_words_with_less_3(text):\n",
    "    text = text.split(' ')\n",
    "    text = [x for x in text if len(x)>3]\n",
    "    return ' '.join(text)"
   ]
  },
  {
   "cell_type": "code",
   "execution_count": 8,
   "metadata": {},
   "outputs": [],
   "source": [
    "df.loc[:, 'Corpus'] = df.loc[:, 'Corpus'].apply(lambda x: remove_words_with_less_3(x))"
   ]
  },
  {
   "cell_type": "markdown",
   "metadata": {},
   "source": [
    "## Make all lowercase"
   ]
  },
  {
   "cell_type": "code",
   "execution_count": 9,
   "metadata": {},
   "outputs": [],
   "source": [
    "df.loc[:, 'Corpus'] = df.loc[:, 'Corpus'].apply(lambda x: x.lower())"
   ]
  },
  {
   "cell_type": "code",
   "execution_count": 10,
   "metadata": {},
   "outputs": [],
   "source": [
    "df['Word Count'] = df['Corpus'].apply(lambda x: len(x.split(' ')) )"
   ]
  },
  {
   "cell_type": "markdown",
   "metadata": {},
   "source": [
    "## Word Count"
   ]
  },
  {
   "cell_type": "code",
   "execution_count": 11,
   "metadata": {},
   "outputs": [],
   "source": [
    "import matplotlib.pyplot as plt\n",
    "from matplotlib.pyplot import figure"
   ]
  },
  {
   "cell_type": "code",
   "execution_count": 12,
   "metadata": {},
   "outputs": [
    {
     "data": {
      "image/png": "[encoded data removed]",
      "text/plain": [
       "<Figure size 1080x504 with 1 Axes>"
      ]
     },
     "metadata": {
      "needs_background": "light"
     },
     "output_type": "display_data"
    }
   ],
   "source": [
    "figure(figsize=(15,7))\n",
    "(n, bins, patches) = plt.hist(df['Word Count'], 10)\n",
    "\n",
    "plt.xlabel('Word Count')\n",
    "plt.ylabel('Songs')\n",
    "plt.title('Words per song')\n",
    "\n",
    "plt.show()"
   ]
  },
  {
   "cell_type": "code",
   "execution_count": null,
   "metadata": {},
   "outputs": [],
   "source": []
  },
  {
   "cell_type": "markdown",
   "metadata": {},
   "source": [
    "## Most popular Words"
   ]
  },
  {
   "cell_type": "code",
   "execution_count": 13,
   "metadata": {},
   "outputs": [],
   "source": [
    "popular_words = dict()"
   ]
  },
  {
   "cell_type": "code",
   "execution_count": 14,
   "metadata": {},
   "outputs": [],
   "source": [
    "l = []\n",
    "for row in df.iterrows():\n",
    "    l += row[1]['Corpus'].split(' ')"
   ]
  },
  {
   "cell_type": "code",
   "execution_count": 15,
   "metadata": {},
   "outputs": [],
   "source": [
    "for word in l:\n",
    "    if word not in popular_words.keys():\n",
    "        popular_words[word] = 1\n",
    "    else:\n",
    "        popular_words[word] += 1"
   ]
  },
  {
   "cell_type": "code",
   "execution_count": 18,
   "metadata": {},
   "outputs": [],
   "source": [
    "popular_words_x = sorted(popular_words, key=popular_words.get,reverse=True)[:10][::-1]"
   ]
  },
  {
   "cell_type": "code",
   "execution_count": 19,
   "metadata": {},
   "outputs": [],
   "source": [
    "popular_words_y = [popular_words.get(key) for key in sorted(popular_words, key=popular_words.get, reverse=True)[:10]][::-1]"
   ]
  },
  {
   "cell_type": "code",
   "execution_count": 20,
   "metadata": {},
   "outputs": [
    {
     "data": {
      "image/png": "[encoded data removed]",
      "text/plain": [
       "<Figure size 1080x504 with 1 Axes>"
      ]
     },
     "metadata": {
      "needs_background": "light"
     },
     "output_type": "display_data"
    }
   ],
   "source": [
    "figure(figsize=(15,7))\n",
    "plt.barh(popular_words_x, popular_words_y)\n",
    "\n",
    "plt.title(\"Most popular words on Lorde's lyrics\")\n",
    "plt.xlabel('# of ocurrencies')\n",
    "plt.ylabel('Words')\n",
    "\n",
    "\n",
    "plt.show()"
   ]
  },
  {
   "cell_type": "markdown",
   "metadata": {},
   "source": [
    "## Most Popular Words by album"
   ]
  },
  {
   "cell_type": "code",
   "execution_count": 21,
   "metadata": {},
   "outputs": [],
   "source": [
    "popular_words_2017 = dict()\n",
    "popular_words_2013 = dict()"
   ]
  },
  {
   "cell_type": "code",
   "execution_count": 22,
   "metadata": {},
   "outputs": [],
   "source": [
    "l_2017 = []\n",
    "for row in df[df['Ano'] == 2017].iterrows():\n",
    "    l_2017 += row[1]['Corpus'].split(' ')\n",
    "    \n",
    "l_2013 = []\n",
    "for row in df[df['Ano'] == 2013].iterrows():\n",
    "    l_2013 += row[1]['Corpus'].split(' ')"
   ]
  },
  {
   "cell_type": "code",
   "execution_count": 23,
   "metadata": {},
   "outputs": [],
   "source": [
    "for word in l_2017:\n",
    "    if word not in popular_words_2017.keys():\n",
    "        popular_words_2017[word] = 1\n",
    "    else:\n",
    "        popular_words_2017[word] += 1\n",
    "        \n",
    "for word in l_2013:\n",
    "    if word not in popular_words_2013.keys():\n",
    "        popular_words_2013[word] = 1\n",
    "    else:\n",
    "        popular_words_2013[word] += 1"
   ]
  },
  {
   "cell_type": "code",
   "execution_count": 24,
   "metadata": {},
   "outputs": [],
   "source": [
    "popular_words_2017_x = sorted(popular_words_2017, key=popular_words_2017.get, reverse=True)[:10][::-1]\n",
    "popular_words_2013_x = sorted(popular_words_2013, key=popular_words_2013.get, reverse=True)[:10][::-1]"
   ]
  },
  {
   "cell_type": "code",
   "execution_count": 25,
   "metadata": {},
   "outputs": [],
   "source": [
    "popular_words_2017_y = [popular_words_2017.get(key) for key in sorted(popular_words_2017, key=popular_words_2017.get, reverse=True)[:10]][::-1]\n",
    "popular_words_2013_y = [popular_words_2013.get(key) for key in sorted(popular_words_2013, key=popular_words_2013.get, reverse=True)[:10]][::-1]"
   ]
  },
  {
   "cell_type": "code",
   "execution_count": 26,
   "metadata": {},
   "outputs": [
    {
     "data": {
      "text/plain": [
       "Text(0, 0.5, 'Words')"
      ]
     },
     "execution_count": 26,
     "metadata": {},
     "output_type": "execute_result"
    },
    {
     "data": {
      "image/png": "[encoded data removed]",
      "text/plain": [
       "<Figure size 1080x504 with 2 Axes>"
      ]
     },
     "metadata": {
      "needs_background": "light"
     },
     "output_type": "display_data"
    }
   ],
   "source": [
    "figure(figsize=(15,7))\n",
    "\n",
    "plt.subplot(1, 2, 1)\n",
    "plt.barh(popular_words_2017_x, popular_words_2017_y)\n",
    "plt.title(\"Most popular words for 'Melodrama'\")\n",
    "plt.xlabel('# of ocurrencies')\n",
    "plt.ylabel('Words')\n",
    "\n",
    "plt.subplot(1, 2, 2)\n",
    "plt.barh(popular_words_2013_x, popular_words_2013_y, color='y')\n",
    "plt.title(\"Most popular words for 'Pure Heroine(Extended)'\")\n",
    "plt.xlabel('# of ocurrencies')\n",
    "plt.ylabel('Words')\n",
    "\n",
    "\n"
   ]
  },
  {
   "cell_type": "markdown",
   "metadata": {},
   "source": [
    "## TF-IDF"
   ]
  },
  {
   "cell_type": "code",
   "execution_count": 27,
   "metadata": {},
   "outputs": [],
   "source": [
    "from sklearn.feature_extraction.text import TfidfVectorizer\n",
    "import numpy as np"
   ]
  },
  {
   "cell_type": "code",
   "execution_count": 28,
   "metadata": {},
   "outputs": [],
   "source": [
    "doc_Melodrama =  []\n",
    "for row in df[df['Ano'] == 2017].iterrows():\n",
    "    doc_Melodrama += row[1]['Corpus'].split(' ')\n",
    "    \n",
    "\n",
    "doc_PureHeroine =  []\n",
    "for row in df[df['Ano'] == 2013].iterrows():\n",
    "    doc_PureHeroine += row[1]['Corpus'].split(' ')"
   ]
  },
  {
   "cell_type": "code",
   "execution_count": 29,
   "metadata": {},
   "outputs": [],
   "source": [
    "doc_Melodrama = ' '.join(doc_Melodrama)\n",
    "\n",
    "doc_PureHeroine = ' '.join(doc_PureHeroine)"
   ]
  },
  {
   "cell_type": "code",
   "execution_count": 30,
   "metadata": {},
   "outputs": [],
   "source": [
    "tfidf = TfidfVectorizer()\n",
    "response = tfidf.fit_transform([doc_Melodrama, doc_PureHeroine])"
   ]
  },
  {
   "cell_type": "code",
   "execution_count": 31,
   "metadata": {},
   "outputs": [],
   "source": [
    "scores = zip(tfidf.get_feature_names(), np.asarray(response.sum(axis=0)).ravel())\n",
    "\n",
    "sorted_scores = sorted(scores, key=lambda x: x[1], reverse=True)"
   ]
  },
  {
   "cell_type": "code",
   "execution_count": 32,
   "metadata": {},
   "outputs": [
    {
     "data": {
      "text/plain": [
       "[('boom', 0.45024092715119174),\n",
       " ('like', 0.4165595162949872),\n",
       " ('love', 0.3854884848546186),\n",
       " ('know', 0.2715746227081549),\n",
       " ('call', 0.24360423535069303),\n",
       " ('people', 0.23511349147785682),\n",
       " ('want', 0.22567491390752065),\n",
       " ('make', 0.21384253061419645),\n",
       " ('feels', 0.2099919641702857),\n",
       " ('yeah', 0.20929591450580165)]"
      ]
     },
     "execution_count": 32,
     "metadata": {},
     "output_type": "execute_result"
    }
   ],
   "source": [
    "sorted_scores[:10]"
   ]
  },
  {
   "cell_type": "markdown",
   "metadata": {},
   "source": [
    "## TF-IDF Álbum"
   ]
  },
  {
   "cell_type": "code",
   "execution_count": 33,
   "metadata": {},
   "outputs": [],
   "source": [
    "doc_Melodrama = df[df['Ano'] == 2017].loc[:, 'Corpus'].to_list()\n",
    "response = tfidf.fit_transform([doc for doc in doc_Melodrama])\n",
    "scores = zip(tfidf.get_feature_names(), np.asarray(response.sum(axis=0)).ravel())\n",
    "sorted_scores_Melodrama = sorted(scores, key=lambda x: x[1], reverse=True)"
   ]
  },
  {
   "cell_type": "code",
   "execution_count": 34,
   "metadata": {},
   "outputs": [],
   "source": [
    "doc_PureHeroine = df[df['Ano'] == 2013].loc[:, 'Corpus'].to_list()\n",
    "response = tfidf.fit_transform([doc for doc in doc_PureHeroine])\n",
    "scores = zip(tfidf.get_feature_names(), np.asarray(response.sum(axis=0)).ravel())\n",
    "sorted_scores_PureHeorine = sorted(scores, key=lambda x: x[1], reverse=True)\n"
   ]
  },
  {
   "cell_type": "code",
   "execution_count": 35,
   "metadata": {},
   "outputs": [
    {
     "data": {
      "text/plain": [
       "Text(0, 0.5, 'Words')"
      ]
     },
     "execution_count": 35,
     "metadata": {},
     "output_type": "execute_result"
    },
    {
     "data": {
      "image/png": "[encoded data removed]",
      "text/plain": [
       "<Figure size 1080x504 with 2 Axes>"
      ]
     },
     "metadata": {
      "needs_background": "light"
     },
     "output_type": "display_data"
    }
   ],
   "source": [
    "figure(figsize=(15,7))\n",
    "\n",
    "plt.subplot(1, 2, 1)\n",
    "plt.barh([x[0] for x in sorted_scores_Melodrama[:10]][::-1], [x[1] for x in sorted_scores_Melodrama[:10]][::-1])\n",
    "plt.title(\"Most important words for 'Melodrama'\")\n",
    "plt.xlabel('TF-IDF Score')\n",
    "plt.ylabel('Words')\n",
    "\n",
    "plt.subplot(1, 2, 2)\n",
    "plt.barh([x[0] for x in sorted_scores_PureHeorine[:10]][::-1], [x[1] for x in sorted_scores_PureHeorine[:10]][::-1], color='y')\n",
    "plt.title(\"Most important words for 'Pure Heroine(Extended)'\")\n",
    "plt.xlabel('TF-IDF Score')\n",
    "plt.ylabel('Words')"
   ]
  },
  {
   "cell_type": "markdown",
   "metadata": {},
   "source": [
    "## NRC"
   ]
  },
  {
   "cell_type": "code",
   "execution_count": 37,
   "metadata": {},
   "outputs": [],
   "source": [
    "df_nrc = pd.read_csv('data/NRC.tsv', sep='\\t',  names=['Sentiment', 'Filter', 'Score'])"
   ]
  },
  {
   "cell_type": "code",
   "execution_count": 38,
   "metadata": {},
   "outputs": [],
   "source": [
    "set_of_nrc_words = df_nrc.loc[:, 'Sentiment'].unique()\n",
    "\n",
    "set_of_nrc_words_Melodrama = set()\n",
    "set_of_nrc_words_PureHeroine = set()\n",
    "\n",
    "for word in ' '.join(doc_Melodrama).split(' '):\n",
    "    if word in set_of_nrc_words:\n",
    "        set_of_nrc_words_Melodrama.add(word)\n",
    "        \n",
    "        \n",
    "for word in ' '.join(doc_PureHeroine).split(' '):\n",
    "    if word in set_of_nrc_words:\n",
    "        set_of_nrc_words_PureHeroine.add(word)\n"
   ]
  },
  {
   "cell_type": "code",
   "execution_count": 39,
   "metadata": {},
   "outputs": [],
   "source": [
    "nrc_score_Melodrama = df_nrc[(df_nrc['Sentiment'].isin(set_of_nrc_words_Melodrama)) & (df_nrc['Score'] == 1)].groupby(['Filter']).sum()\n",
    "nrc_score_Melodrama = nrc_score_Melodrama.sort_values(by='Score', ascending=False).iloc[2:, :]"
   ]
  },
  {
   "cell_type": "code",
   "execution_count": 40,
   "metadata": {},
   "outputs": [],
   "source": [
    "nrc_score_PureHeroine = df_nrc[(df_nrc['Sentiment'].isin(set_of_nrc_words_PureHeroine)) & (df_nrc['Score'] == 1)].groupby(['Filter']).sum()\n",
    "nrc_score_PureHeroine = nrc_score_PureHeroine.sort_values(by='Score', ascending=False).iloc[2:, :]"
   ]
  },
  {
   "cell_type": "code",
   "execution_count": 41,
   "metadata": {},
   "outputs": [
    {
     "data": {
      "text/plain": [
       "Text(0, 0.5, 'Words')"
      ]
     },
     "execution_count": 41,
     "metadata": {},
     "output_type": "execute_result"
    },
    {
     "data": {
      "image/png": "[encoded data removed]",
      "text/plain": [
       "<Figure size 1440x504 with 2 Axes>"
      ]
     },
     "metadata": {
      "needs_background": "light"
     },
     "output_type": "display_data"
    }
   ],
   "source": [
    "figure(figsize=(20,7))\n",
    "\n",
    "plt.subplot(1, 2, 1)\n",
    "plt.barh(nrc_score_Melodrama.index[::-1], [value[0] for value in nrc_score_Melodrama.values][::-1])\n",
    "plt.title(\"Melodrama\")\n",
    "plt.xlabel('Count')\n",
    "plt.ylabel('Words')\n",
    "\n",
    "\n",
    "plt.subplot(1, 2, 2)\n",
    "plt.barh(nrc_score_PureHeroine.index[::-1], [value[0] for value in nrc_score_PureHeroine.values][::-1])\n",
    "plt.title(\"Pure Heroine\")\n",
    "plt.xlabel('Count')\n",
    "plt.ylabel('Words')"
   ]
  },
  {
   "cell_type": "code",
   "execution_count": 42,
   "metadata": {},
   "outputs": [
    {
     "data": {
      "text/plain": [
       "(Index(['trust', 'anticipation', 'joy', 'sadness', 'fear', 'anger', 'surprise',\n",
       "        'disgust'],\n",
       "       dtype='object', name='Filter'), [42, 40, 40, 36, 35, 31, 26, 18])"
      ]
     },
     "execution_count": 42,
     "metadata": {},
     "output_type": "execute_result"
    }
   ],
   "source": [
    "nrc_score_PureHeroine.index, [value[0] for value in nrc_score_PureHeroine.values]"
   ]
  },
  {
   "cell_type": "markdown",
   "metadata": {},
   "source": [
    "## NRC for Positive/Negative"
   ]
  },
  {
   "cell_type": "code",
   "execution_count": 43,
   "metadata": {},
   "outputs": [],
   "source": [
    "words_for_positive_sentiments_Melodrama = df_nrc[\\\n",
    "       (df_nrc['Sentiment'].isin(set_of_nrc_words_Melodrama)) & \\\n",
    "       (df_nrc['Score'] == 1) & \\\n",
    "       (df_nrc['Filter'] == 'positive')].loc[:, 'Sentiment'].values\n",
    "\n",
    "words_for_negative_sentiments_Melodrama = df_nrc[\\\n",
    "       (df_nrc['Sentiment'].isin(set_of_nrc_words_Melodrama)) & \\\n",
    "       (df_nrc['Score'] == 1) & \\\n",
    "       (df_nrc['Filter'] == 'negative')].loc[:, 'Sentiment'].values\n",
    "\n",
    "words_for_positive_sentiments_PureHeroine = df_nrc[\\\n",
    "       (df_nrc['Sentiment'].isin(set_of_nrc_words_PureHeroine)) & \\\n",
    "       (df_nrc['Score'] == 1) & \\\n",
    "       (df_nrc['Filter'] == 'positive')].loc[:, 'Sentiment'].values\n",
    "\n",
    "words_for_negative_sentiments_PureHeroine = df_nrc[\\\n",
    "       (df_nrc['Sentiment'].isin(set_of_nrc_words_PureHeroine)) & \\\n",
    "       (df_nrc['Score'] == 1) & \\\n",
    "       (df_nrc['Filter'] == 'negative')].loc[:, 'Sentiment'].values"
   ]
  },
  {
   "cell_type": "code",
   "execution_count": 44,
   "metadata": {},
   "outputs": [],
   "source": [
    "positive_count_Melodrama = dict()\n",
    "negative_count_Melodrama = dict()\n",
    "\n",
    "positive_count_PureHeroine = dict()\n",
    "negative_count_PureHeroine = dict()"
   ]
  },
  {
   "cell_type": "code",
   "execution_count": 45,
   "metadata": {},
   "outputs": [],
   "source": [
    "for word in ' '.join(doc_Melodrama).split(' '):\n",
    "    if word in words_for_positive_sentiments_Melodrama:\n",
    "        if word in positive_count_Melodrama.keys():\n",
    "            positive_count_Melodrama[word]+=1\n",
    "        else:\n",
    "            positive_count_Melodrama[word] = 1\n",
    "            \n",
    "for word in ' '.join(doc_Melodrama).split(' '):\n",
    "    if word in words_for_negative_sentiments_Melodrama:\n",
    "        if word in negative_count_Melodrama.keys():\n",
    "            negative_count_Melodrama[word]+=1\n",
    "        else:\n",
    "            negative_count_Melodrama[word] = 1\n",
    "            \n",
    "            \n",
    "for word in ' '.join(doc_PureHeroine).split(' '):\n",
    "    if word in words_for_positive_sentiments_PureHeroine:\n",
    "        if word in positive_count_PureHeroine.keys():\n",
    "            positive_count_PureHeroine[word]+=1\n",
    "        else:\n",
    "            positive_count_PureHeroine[word] = 1\n",
    "            \n",
    "for word in ' '.join(doc_PureHeroine).split(' '):\n",
    "    if word in words_for_negative_sentiments_PureHeroine:\n",
    "        if word in negative_count_PureHeroine.keys():\n",
    "            negative_count_PureHeroine[word]+=1\n",
    "        else:\n",
    "            negative_count_PureHeroine[word] = 1"
   ]
  },
  {
   "cell_type": "code",
   "execution_count": 46,
   "metadata": {},
   "outputs": [],
   "source": [
    "positive_x_Melodrama = sorted(positive_count_Melodrama, key=positive_count_Melodrama.get, reverse=True)[:10]\n",
    "positive_y_Melodrama = [positive_count_Melodrama.get(key) for key in sorted(positive_count_Melodrama, key=positive_count_Melodrama.get, reverse=True)][:10]\n",
    "\n",
    "negative_x_Melodrama = sorted(negative_count_Melodrama, key=negative_count_Melodrama.get, reverse=True)[:10]\n",
    "negative_y_Melodrama = [negative_count_Melodrama.get(key) for key in sorted(negative_count_Melodrama, key=negative_count_Melodrama.get, reverse=True)][:10]\n",
    "\n",
    "\n",
    "positive_x_PureHeroine = sorted(positive_count_PureHeroine, key=positive_count_PureHeroine.get, reverse=True)[:10]\n",
    "positive_y_PureHeroine = [positive_count_PureHeroine.get(key) for key in sorted(positive_count_PureHeroine, key=positive_count_PureHeroine.get, reverse=True)][:10]\n",
    "\n",
    "negative_x_PureHeroine = sorted(negative_count_PureHeroine, key=negative_count_PureHeroine.get, reverse=True)[:10]\n",
    "negative_y_PureHeroine = [negative_count_PureHeroine.get(key) for key in sorted(negative_count_PureHeroine, key=negative_count_PureHeroine.get, reverse=True)][:10]"
   ]
  },
  {
   "cell_type": "code",
   "execution_count": 47,
   "metadata": {},
   "outputs": [
    {
     "data": {
      "text/plain": [
       "Text(0, 0.5, 'Words')"
      ]
     },
     "execution_count": 47,
     "metadata": {},
     "output_type": "execute_result"
    },
    {
     "data": {
      "image/png": "[encoded data removed]",
      "text/plain": [
       "<Figure size 1440x1440 with 4 Axes>"
      ]
     },
     "metadata": {
      "needs_background": "light"
     },
     "output_type": "display_data"
    }
   ],
   "source": [
    "figure(figsize=(20,20))\n",
    "\n",
    "plt.subplot(2, 2, 1)\n",
    "plt.barh(positive_x_Melodrama[::-1], positive_y_Melodrama[::-1], color='pink')\n",
    "plt.title(\"Top contribution for Positive sentiments in Melodrama\")\n",
    "plt.xlabel('Count')\n",
    "plt.ylabel('Words')\n",
    "\n",
    "\n",
    "plt.subplot(2, 2, 2)\n",
    "plt.barh(negative_x_Melodrama[::-1], negative_y_Melodrama[::-1])\n",
    "plt.title(\"Top contribution for Negative sentiments in Melodrama\")\n",
    "plt.xlabel('Count')\n",
    "plt.ylabel('Words')\n",
    "\n",
    "\n",
    "plt.subplot(2, 2, 3)\n",
    "plt.barh(positive_x_PureHeroine[::-1], positive_y_PureHeroine[::-1], color='pink')\n",
    "plt.title(\"Top contribution for Positive sentiments in Pure Heroine\")\n",
    "plt.xlabel('Count')\n",
    "plt.ylabel('Words')\n",
    "\n",
    "\n",
    "plt.subplot(2, 2, 4)\n",
    "plt.barh(negative_x_PureHeroine[::-1], negative_y_PureHeroine[::-1])\n",
    "plt.title(\"Top contribution for Negative sentiments in Pure Heroine\")\n",
    "plt.xlabel('Count')\n",
    "plt.ylabel('Words')"
   ]
  },
  {
   "cell_type": "code",
   "execution_count": null,
   "metadata": {},
   "outputs": [],
   "source": []
  }
 ],
 "metadata": {
  "kernelspec": {
   "display_name": "Python 3",
   "language": "python",
   "name": "python3"
  },
  "language_info": {
   "codemirror_mode": {
    "name": "ipython",
    "version": 3
   },
   "file_extension": ".py",
   "mimetype": "text/x-python",
   "name": "python",
   "nbconvert_exporter": "python",
   "pygments_lexer": "ipython3",
   "version": "3.7.3"
  }
 },
 "nbformat": 4,
 "nbformat_minor": 2
}
